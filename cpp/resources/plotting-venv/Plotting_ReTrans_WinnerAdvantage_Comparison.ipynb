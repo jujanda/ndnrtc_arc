{
 "cells": [
  {
   "cell_type": "code",
   "execution_count": 1,
   "metadata": {},
   "outputs": [
    {
     "data": {
      "text/html": [
       "<div>\n",
       "<style scoped>\n",
       "    .dataframe tbody tr th:only-of-type {\n",
       "        vertical-align: middle;\n",
       "    }\n",
       "\n",
       "    .dataframe tbody tr th {\n",
       "        vertical-align: top;\n",
       "    }\n",
       "\n",
       "    .dataframe thead th {\n",
       "        text-align: right;\n",
       "    }\n",
       "</style>\n",
       "<table border=\"1\" class=\"dataframe\">\n",
       "  <thead>\n",
       "    <tr style=\"text-align: right;\">\n",
       "      <th></th>\n",
       "      <th>setting</th>\n",
       "      <th>run</th>\n",
       "      <th>init._res.</th>\n",
       "      <th>adaption_logic</th>\n",
       "      <th>shaping_profile</th>\n",
       "      <th>bandwith(cons)</th>\n",
       "      <th>al_w1</th>\n",
       "      <th>al_w2</th>\n",
       "      <th>al_th1</th>\n",
       "      <th>al_th2</th>\n",
       "      <th>al_seq_len</th>\n",
       "      <th>frames_missing</th>\n",
       "      <th>retransmissions</th>\n",
       "      <th>psnr</th>\n",
       "      <th>ssim</th>\n",
       "      <th>vmaf</th>\n",
       "    </tr>\n",
       "  </thead>\n",
       "  <tbody>\n",
       "    <tr>\n",
       "      <th>0</th>\n",
       "      <td>1</td>\n",
       "      <td>0</td>\n",
       "      <td>med</td>\n",
       "      <td>ReTrans</td>\n",
       "      <td>HLH</td>\n",
       "      <td>-----</td>\n",
       "      <td>0.7</td>\n",
       "      <td>1.3</td>\n",
       "      <td>1</td>\n",
       "      <td>3</td>\n",
       "      <td>1</td>\n",
       "      <td>1051</td>\n",
       "      <td>931</td>\n",
       "      <td>15.23</td>\n",
       "      <td>0.694953</td>\n",
       "      <td>38.218117</td>\n",
       "    </tr>\n",
       "    <tr>\n",
       "      <th>1</th>\n",
       "      <td>1</td>\n",
       "      <td>1</td>\n",
       "      <td>med</td>\n",
       "      <td>ReTrans</td>\n",
       "      <td>HLH</td>\n",
       "      <td>-----</td>\n",
       "      <td>0.7</td>\n",
       "      <td>1.3</td>\n",
       "      <td>1</td>\n",
       "      <td>3</td>\n",
       "      <td>1</td>\n",
       "      <td>976</td>\n",
       "      <td>500</td>\n",
       "      <td>19.19</td>\n",
       "      <td>0.677450</td>\n",
       "      <td>37.759937</td>\n",
       "    </tr>\n",
       "    <tr>\n",
       "      <th>2</th>\n",
       "      <td>1</td>\n",
       "      <td>2</td>\n",
       "      <td>med</td>\n",
       "      <td>ReTrans</td>\n",
       "      <td>HLH</td>\n",
       "      <td>-----</td>\n",
       "      <td>0.7</td>\n",
       "      <td>1.3</td>\n",
       "      <td>1</td>\n",
       "      <td>3</td>\n",
       "      <td>1</td>\n",
       "      <td>646</td>\n",
       "      <td>595</td>\n",
       "      <td>16.27</td>\n",
       "      <td>0.573160</td>\n",
       "      <td>38.615331</td>\n",
       "    </tr>\n",
       "    <tr>\n",
       "      <th>3</th>\n",
       "      <td>1</td>\n",
       "      <td>3</td>\n",
       "      <td>med</td>\n",
       "      <td>ReTrans</td>\n",
       "      <td>HLH</td>\n",
       "      <td>-----</td>\n",
       "      <td>0.7</td>\n",
       "      <td>1.3</td>\n",
       "      <td>1</td>\n",
       "      <td>3</td>\n",
       "      <td>1</td>\n",
       "      <td>506</td>\n",
       "      <td>832</td>\n",
       "      <td>14.65</td>\n",
       "      <td>0.574026</td>\n",
       "      <td>38.893652</td>\n",
       "    </tr>\n",
       "    <tr>\n",
       "      <th>4</th>\n",
       "      <td>1</td>\n",
       "      <td>4</td>\n",
       "      <td>med</td>\n",
       "      <td>ReTrans</td>\n",
       "      <td>HLH</td>\n",
       "      <td>-----</td>\n",
       "      <td>0.7</td>\n",
       "      <td>1.3</td>\n",
       "      <td>1</td>\n",
       "      <td>3</td>\n",
       "      <td>1</td>\n",
       "      <td>527</td>\n",
       "      <td>1339</td>\n",
       "      <td>15.11</td>\n",
       "      <td>0.535138</td>\n",
       "      <td>39.707945</td>\n",
       "    </tr>\n",
       "  </tbody>\n",
       "</table>\n",
       "</div>"
      ],
      "text/plain": [
       "   setting  run init._res. adaption_logic shaping_profile bandwith(cons)  \\\n",
       "0        1    0        med        ReTrans             HLH          -----   \n",
       "1        1    1        med        ReTrans             HLH          -----   \n",
       "2        1    2        med        ReTrans             HLH          -----   \n",
       "3        1    3        med        ReTrans             HLH          -----   \n",
       "4        1    4        med        ReTrans             HLH          -----   \n",
       "\n",
       "   al_w1  al_w2  al_th1  al_th2  al_seq_len  frames_missing  retransmissions  \\\n",
       "0    0.7    1.3       1       3           1            1051              931   \n",
       "1    0.7    1.3       1       3           1             976              500   \n",
       "2    0.7    1.3       1       3           1             646              595   \n",
       "3    0.7    1.3       1       3           1             506              832   \n",
       "4    0.7    1.3       1       3           1             527             1339   \n",
       "\n",
       "    psnr      ssim       vmaf  \n",
       "0  15.23  0.694953  38.218117  \n",
       "1  19.19  0.677450  37.759937  \n",
       "2  16.27  0.573160  38.615331  \n",
       "3  14.65  0.574026  38.893652  \n",
       "4  15.11  0.535138  39.707945  "
      ]
     },
     "execution_count": 1,
     "metadata": {},
     "output_type": "execute_result"
    }
   ],
   "source": [
    "import numpy as np\n",
    "import pandas as pd\n",
    "import matplotlib.pyplot as plt\n",
    "import scipy as sp\n",
    "import scipy.stats\n",
    "\n",
    "DIR = \"/home/julian/Documents/ndnrtc_testing/evaluation/reTrans_evaluation_results\"\n",
    "\n",
    "# read in csv file\n",
    "df = pd.read_csv(DIR + '/run_overview.csv', delimiter='\\t', index_col=False)\n",
    "\n",
    "# transform columns names to lower case\n",
    "df.columns = [col.lower() for col in df]\n",
    "\n",
    "# ensuring backwards compatibility\n",
    "df.rename(columns={\"adaption\":\"init._res.\"}, inplace=True)\n",
    "\n",
    "# ensuring forwards compatibility\n",
    "df.rename(columns={\"retr._total\":\"retransmissions\", \n",
    "                   \"al_seq.len.\":\"al_seq_len\"}, inplace=True)\n",
    "\n",
    "# remove unnecessary columns\n",
    "df.drop(columns=[\"retr._max\"], inplace=True)\n",
    "\n",
    "df.head()"
   ]
  },
  {
   "cell_type": "code",
   "execution_count": 2,
   "metadata": {},
   "outputs": [],
   "source": [
    "def customFilter (df, al_w1_fixed, al_w2_fixed, al_th1_fixed, al_th2_fixed, al_seq_len_fixed):\n",
    "   \n",
    "    # filter data according to fixed parameters\n",
    "    df_tmp = df[(df.al_w1 == al_w1_fixed) \n",
    "             & (df.al_w2 == al_w2_fixed)\n",
    "             & (df.al_th1 == al_th1_fixed) \n",
    "             & (df.al_th2 == al_th2_fixed)\n",
    "             & (df.al_seq_len == al_seq_len_fixed)]\n",
    "    \n",
    "    return df_tmp\n",
    "\n",
    "def customFilter2 (df, adaption_logic, init_res, shaping_profile):\n",
    "   \n",
    "    # filter data according to fixed parameters\n",
    "    df_tmp = df[(df.adaption_logic == adaption_logic) \n",
    "                & (df[\"init._res.\"] == init_res)\n",
    "                & (df.shaping_profile == shaping_profile)]\n",
    "    \n",
    "    return df_tmp"
   ]
  },
  {
   "cell_type": "code",
   "execution_count": 3,
   "metadata": {},
   "outputs": [],
   "source": [
    "def prepareDataforWinnerAdvantagePlot(metric):\n",
    "    \n",
    "    # prepare columns and index for new dataframe\n",
    "    columns=[\"low\", \"med\", \"high\", \"reTrans\"]\n",
    "    index = pd.MultiIndex.from_product([[\"mean\", \"std\"], [\"HL\", \"LH\", \"HLH\", \"LHL\"]], \n",
    "                                       names=[\"type\", \"shaping_profile\"])\n",
    "    # create new dataframe\n",
    "    df_data = pd.DataFrame(index =index, columns=columns) \n",
    "    \n",
    "    # fill data frame with values\n",
    "    for init_res in df_data.columns:\n",
    "            \n",
    "        # reTrans needs additional filtering\n",
    "        if init_res == \"reTrans\":\n",
    "            # get only rows with the chosen parameters (winning setting)\n",
    "            tmp = customFilter(df, 0.7, 1.3, 1, 3, 5)\n",
    "            for shaping_profile in df_data.index.get_level_values('shaping_profile').unique():\n",
    "                                 \n",
    "                df_data.at[(\"mean\", shaping_profile), init_res] = customFilter2(\n",
    "                    tmp, \"ReTrans\", \"med\", shaping_profile)[metric].mean()\n",
    "               \n",
    "                df_data.at[(\"std\", shaping_profile), init_res] = customFilter2(\n",
    "                    tmp, \"ReTrans\", \"med\", shaping_profile)[metric].std()\n",
    "        else:     \n",
    "            for shaping_profile in df_data.index.get_level_values('shaping_profile').unique():\n",
    "                      \n",
    "                df_data.at[(\"mean\", shaping_profile), init_res] = customFilter2(\n",
    "                    df, \"NoAdaption\", init_res, shaping_profile)[metric].mean()\n",
    "               \n",
    "                df_data.at[(\"std\", shaping_profile), init_res] = customFilter2(\n",
    "                    df, \"NoAdaption\", init_res, shaping_profile)[metric].std()\n",
    "      \n",
    "    return df_data"
   ]
  },
  {
   "cell_type": "code",
   "execution_count": 4,
   "metadata": {},
   "outputs": [],
   "source": [
    "def drawWinnerAdvantagePlot(metric):\n",
    "    \n",
    "    # get data for plot\n",
    "    data = prepareDataforWinnerAdvantagePlot(metric)\n",
    "    \n",
    "    # prepare some variables & parameters for plotting\n",
    "    fig, ax = plt.subplots()\n",
    "    positions = np.array([0,5,10,15])\n",
    "    group_colors=[\"lightsalmon\", \"chocolate\", \"saddlebrown\", \"royalblue\"]\n",
    "    topx = len(data.index)\n",
    "    xlabels = []\n",
    "    \n",
    "    # draw bars for each of the groups\n",
    "    for x in range(0, len(data.columns)):\n",
    "        \n",
    "        # prepare some additional parameters\n",
    "        pos = positions + x\n",
    "        values = data[data.columns[x]][\"mean\"]\n",
    "        errors = data[data.columns[x]][\"std\"]\n",
    "        label = data.columns[x]\n",
    "        color = group_colors[x]\n",
    "        \n",
    "        # draw bar with error markers\n",
    "        rect = ax.bar(pos, values, width=1, yerr=errors, label=label, color=color, edgecolor=\"black\", capsize=3)\n",
    "        \n",
    "    #some adjustments for better readability\n",
    "#    if metric == \"psnr\":\n",
    "#        ax.set_ylim(0, 40) # 20\n",
    "#    if metric == \"ssim\":\n",
    "#        ax.set_ylim(0, 1) # 0.7\n",
    "#    if metric == \"vmaf\":\n",
    "#        ax.set_ylim(0, 51) \n",
    "#    if metric == \"retransmissions\":\n",
    "#        ax.set_ylim(0, 1000)    \n",
    "#    if metric == \"frames_missing\":\n",
    "#        ax.set_ylim(0, 900)\n",
    "    \n",
    "    # add some text for labels, title and custom x-axis tick labels, etc.\n",
    "    ax.set_ylabel(metric)\n",
    "    ax.set_title('Comparison: No Adaption vs. ReTrans (Winning Setting)')\n",
    "    ax.set_xticks([1.5,6.5,11.5,16.5])\n",
    "    ax.set_xticklabels(data.index.get_level_values(1).unique())\n",
    "    ax.legend()\n",
    "    plt.tight_layout()\n",
    "    \n",
    "    # save created plot as a pdf\n",
    "    plt.savefig(DIR + \"/reTrans_winneradvantage_\" + metric + \"_comparison\" + \".pdf\")"
   ]
  },
  {
   "cell_type": "code",
   "execution_count": 5,
   "metadata": {},
   "outputs": [],
   "source": [
    "def drawWinnerAdvantagePlots():\n",
    "    drawWinnerAdvantagePlot(\"psnr\")\n",
    "    drawWinnerAdvantagePlot(\"ssim\")\n",
    "    drawWinnerAdvantagePlot(\"vmaf\")\n",
    "    drawWinnerAdvantagePlot(\"retransmissions\")\n",
    "    drawWinnerAdvantagePlot(\"frames_missing\")"
   ]
  },
  {
   "cell_type": "code",
   "execution_count": 6,
   "metadata": {},
   "outputs": [
    {
     "data": {
      "image/png": "[encoded data removed]",
      "text/plain": [
       "<Figure size 432x288 with 1 Axes>"
      ]
     },
     "metadata": {
      "needs_background": "light"
     },
     "output_type": "display_data"
    },
    {
     "data": {
      "image/png": "[encoded data removed]",
      "text/plain": [
       "<Figure size 432x288 with 1 Axes>"
      ]
     },
     "metadata": {
      "needs_background": "light"
     },
     "output_type": "display_data"
    },
    {
     "data": {
      "image/png": "[encoded data removed]",
      "text/plain": [
       "<Figure size 432x288 with 1 Axes>"
      ]
     },
     "metadata": {
      "needs_background": "light"
     },
     "output_type": "display_data"
    },
    {
     "data": {
      "image/png": "[encoded data removed]",
      "text/plain": [
       "<Figure size 432x288 with 1 Axes>"
      ]
     },
     "metadata": {
      "needs_background": "light"
     },
     "output_type": "display_data"
    },
    {
     "data": {
      "image/png": "[encoded data removed]",
      "text/plain": [
       "<Figure size 432x288 with 1 Axes>"
      ]
     },
     "metadata": {
      "needs_background": "light"
     },
     "output_type": "display_data"
    }
   ],
   "source": [
    "drawWinnerAdvantagePlots()"
   ]
  },
  {
   "cell_type": "code",
   "execution_count": null,
   "metadata": {},
   "outputs": [],
   "source": []
  },
  {
   "cell_type": "code",
   "execution_count": null,
   "metadata": {},
   "outputs": [],
   "source": []
  }
 ],
 "metadata": {
  "kernelspec": {
   "display_name": "Python 3",
   "language": "python",
   "name": "python3"
  },
  "language_info": {
   "codemirror_mode": {
    "name": "ipython",
    "version": 3
   },
   "file_extension": ".py",
   "mimetype": "text/x-python",
   "name": "python",
   "nbconvert_exporter": "python",
   "pygments_lexer": "ipython3",
   "version": "3.5.2"
  }
 },
 "nbformat": 4,
 "nbformat_minor": 2
}
